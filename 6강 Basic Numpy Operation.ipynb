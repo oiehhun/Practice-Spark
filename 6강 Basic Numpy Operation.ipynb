{
 "cells": [
  {
   "cell_type": "markdown",
   "metadata": {
    "slideshow": {
     "slide_type": "slide"
    }
   },
   "source": [
    "# 6강. Basic Numpy Operation"
   ]
  },
  {
   "cell_type": "markdown",
   "metadata": {
    "slideshow": {
     "slide_type": "slide"
    }
   },
   "source": [
    "# 이번장에서 배우는 것들\n",
    " * Numpy를 이용한 기본적 자료 구조\n",
    " * 필수적인 Numpy 동작에 대해 실습"
   ]
  },
  {
   "cell_type": "code",
   "execution_count": null,
   "metadata": {
    "slideshow": {
     "slide_type": "slide"
    }
   },
   "outputs": [],
   "source": [
    "#numpy를 import 시킴\n",
    "import numpy as np"
   ]
  },
  {
   "cell_type": "markdown",
   "metadata": {
    "slideshow": {
     "slide_type": "slide"
    }
   },
   "source": [
    "## 기본 자료구조 (List)"
   ]
  },
  {
   "cell_type": "code",
   "execution_count": null,
   "metadata": {
    "slideshow": {
     "slide_type": "slide"
    }
   },
   "outputs": [],
   "source": [
    "# python의 기본자료 구조인 list\n",
    "# string 원소를 여러개 가진 list는 다음과 같이 정의 할 수 있음\n",
    "week = ['mon', 'tue', 'wed', 'thu', 'fri', 'sat', 'sun']\n",
    "print(week, type(week))"
   ]
  },
  {
   "cell_type": "code",
   "execution_count": null,
   "metadata": {
    "slideshow": {
     "slide_type": "slide"
    }
   },
   "outputs": [],
   "source": [
    "# list의 특정 순서의 item을 출력하는 동작은 변수의 뒤에 []를 이용하여 접근 \n",
    "# 0번째 index에 접근\n",
    "print(week[0])"
   ]
  },
  {
   "cell_type": "code",
   "execution_count": null,
   "metadata": {
    "slideshow": {
     "slide_type": "slide"
    }
   },
   "outputs": [],
   "source": [
    "# 1번째 index에 접근\n",
    "print(week[1])"
   ]
  },
  {
   "cell_type": "code",
   "execution_count": null,
   "metadata": {
    "slideshow": {
     "slide_type": "slide"
    }
   },
   "outputs": [],
   "source": [
    "# 맨뒤 접근을 -1 index로 표현함\n",
    "print(week[-1])"
   ]
  },
  {
   "cell_type": "code",
   "execution_count": null,
   "metadata": {
    "slideshow": {
     "slide_type": "slide"
    }
   },
   "outputs": [],
   "source": [
    "# 맨뒤에서 한칸 앞 index에 접근\n",
    "print(week[-2])"
   ]
  },
  {
   "cell_type": "code",
   "execution_count": null,
   "metadata": {
    "slideshow": {
     "slide_type": "slide"
    }
   },
   "outputs": [],
   "source": [
    "# integer 원소를 여러개 가진 list는 다음과 같이 정의 할 수 있음\n",
    "week = [0, 1, 2, 3, 4, 5, 6]\n",
    "print(week, type(week))"
   ]
  },
  {
   "cell_type": "code",
   "execution_count": null,
   "metadata": {
    "slideshow": {
     "slide_type": "slide"
    }
   },
   "outputs": [],
   "source": [
    "# 여러 index에 접근\n",
    "print(week[0], week[1], week[-1], week[-2])"
   ]
  },
  {
   "cell_type": "code",
   "execution_count": null,
   "metadata": {
    "slideshow": {
     "slide_type": "slide"
    }
   },
   "outputs": [],
   "source": [
    "# python의 list에서는 자료형에 상관없이 여러 타입을 혼합할 수 있음\n",
    "week = [0, 'mon', 1.0, 2, 3, 'fri', 'sat', 6.0]\n",
    "print(week, type(week))"
   ]
  },
  {
   "cell_type": "code",
   "execution_count": null,
   "metadata": {
    "slideshow": {
     "slide_type": "slide"
    }
   },
   "outputs": [],
   "source": [
    "# 여러 index에 접근\n",
    "print(week[0], week[1], week[-1], week[-2])"
   ]
  },
  {
   "cell_type": "code",
   "execution_count": null,
   "metadata": {
    "slideshow": {
     "slide_type": "slide"
    }
   },
   "outputs": [],
   "source": [
    "# list안에 다시 list를 원소로 넣어 중첩된 list를 표현 할 수 있음\n",
    "people = [ ['son', 176, 69],  ['kim', 183, 84], ['lee', 163, 57]]\n",
    "print(people)"
   ]
  },
  {
   "cell_type": "code",
   "execution_count": null,
   "metadata": {
    "slideshow": {
     "slide_type": "slide"
    }
   },
   "outputs": [],
   "source": [
    "# 여러 index에 접근\n",
    "print(people[0], people[1], people[-1], people[-2])"
   ]
  },
  {
   "cell_type": "code",
   "execution_count": null,
   "metadata": {
    "slideshow": {
     "slide_type": "slide"
    }
   },
   "outputs": [],
   "source": [
    "#list 원소는 다시 index를 주어 중첩된 list의 item에 접근 할 수 있음\n",
    "print(people[0][1], people[0][-1])"
   ]
  },
  {
   "cell_type": "code",
   "execution_count": null,
   "metadata": {
    "slideshow": {
     "slide_type": "slide"
    }
   },
   "outputs": [],
   "source": [
    "#append 명령어로 list의 가장 끝 부분에 data를 삽입할 수 있음\n",
    "people.append(['park', 177, 75])\n",
    "print(people)\n",
    "print(people[-1])"
   ]
  },
  {
   "cell_type": "code",
   "execution_count": null,
   "metadata": {
    "slideshow": {
     "slide_type": "slide"
    }
   },
   "outputs": [],
   "source": [
    "#list는 기존 item과 size가 달라도 추가 가능\n",
    "people.append(['bug!', 177, 75, 234])\n",
    "print(people)\n",
    "print(people[-1])"
   ]
  },
  {
   "cell_type": "code",
   "execution_count": null,
   "metadata": {
    "slideshow": {
     "slide_type": "slide"
    }
   },
   "outputs": [],
   "source": [
    "# pop 명령어를 이용하여 list의 item을 제거 할 수 있음\n",
    "# 가장 뒤의 원소를 제거함\n",
    "people.pop()\n",
    "print(people)"
   ]
  },
  {
   "cell_type": "code",
   "execution_count": null,
   "metadata": {
    "slideshow": {
     "slide_type": "slide"
    }
   },
   "outputs": [],
   "source": [
    "# 가장 앞의 원소를 제거함\n",
    "people.pop(0)\n",
    "print(people)\n"
   ]
  },
  {
   "cell_type": "markdown",
   "metadata": {
    "slideshow": {
     "slide_type": "slide"
    }
   },
   "source": [
    "## 기본 자료구조 (Numpy array)"
   ]
  },
  {
   "cell_type": "code",
   "execution_count": null,
   "metadata": {
    "slideshow": {
     "slide_type": "slide"
    }
   },
   "outputs": [],
   "source": [
    "import numpy as np\n",
    "# np array는 python list를 converting 할 수 있음\n",
    "# string list를 변환\n",
    "week = np.array(['mon', 'tue', 'wed', 'thu', 'fri', 'sat', 'sun'])\n",
    "print(week, type(week), week.dtype)"
   ]
  },
  {
   "cell_type": "code",
   "execution_count": null,
   "metadata": {
    "slideshow": {
     "slide_type": "slide"
    }
   },
   "outputs": [],
   "source": [
    "# 여러 index에 접근\n",
    "print(week[0], week[1], week[-1], week[-2])"
   ]
  },
  {
   "cell_type": "code",
   "execution_count": null,
   "metadata": {
    "slideshow": {
     "slide_type": "slide"
    }
   },
   "outputs": [],
   "source": [
    "# int list를 변환\n",
    "week = np.array([0, 1, 2, 3, 4, 5, 6])\n",
    "print(week, type(week), week.dtype)"
   ]
  },
  {
   "cell_type": "code",
   "execution_count": null,
   "metadata": {
    "slideshow": {
     "slide_type": "slide"
    }
   },
   "outputs": [],
   "source": [
    "# 여러 index에 접근\n",
    "print(week[0], week[1], week[-1], week[-2])"
   ]
  },
  {
   "cell_type": "code",
   "execution_count": null,
   "metadata": {
    "slideshow": {
     "slide_type": "slide"
    }
   },
   "outputs": [],
   "source": [
    "# 복합 자료형 list는 변환할 수 없음\n",
    "# 해당 자료형을 전부 포괄 할 수 있는 자료형이 있다면 해당 자료형으로 converting 후 변환\n",
    "week = np.array([0, 'mon', 1.0, 2, 3, 'fri', 'sat', 6.0])\n",
    "print(week, type(week), week.dtype)"
   ]
  },
  {
   "cell_type": "code",
   "execution_count": null,
   "metadata": {
    "slideshow": {
     "slide_type": "slide"
    }
   },
   "outputs": [],
   "source": [
    "# 사이즈가 같은 중첩된 list는 같은 규칙에 의해 numpy array로 전환됨 \n",
    "people = np.array([['son', 176, 69], ['kim', 183, 84], ['lee', 163, 57]])\n",
    "print(people, type(people), people.shape)"
   ]
  },
  {
   "cell_type": "code",
   "execution_count": null,
   "metadata": {
    "slideshow": {
     "slide_type": "slide"
    }
   },
   "outputs": [],
   "source": [
    "# 사이즈가 다른 중첩된 list는 numpy array로 변환 될 수 없음\n",
    "# 혀용되는 numpy array에 각 원소를 다시 list를 갖는 numpy array로 변환\n",
    "people = np.array([['son', 176, 69], ['kim', 183, 84], ['lee', 163, 57], ['bug!', 183, 123, 341]])\n"
   ]
  },
  {
   "cell_type": "code",
   "execution_count": null,
   "metadata": {},
   "outputs": [],
   "source": [
    "print(people, type(people), people.shape, people.dtype)"
   ]
  },
  {
   "cell_type": "code",
   "execution_count": null,
   "metadata": {
    "slideshow": {
     "slide_type": "slide"
    }
   },
   "outputs": [],
   "source": [
    "# 생성된 numpy array는 append, pop 등의 메서드가 없기 때문에 item을 새로 추가/삭제 불가능\n",
    "people.pop()"
   ]
  },
  {
   "cell_type": "markdown",
   "metadata": {
    "slideshow": {
     "slide_type": "slide"
    }
   },
   "source": [
    "## 간단한 List와 Numpy array 연산 비교"
   ]
  },
  {
   "cell_type": "code",
   "execution_count": null,
   "metadata": {
    "slideshow": {
     "slide_type": "slide"
    }
   },
   "outputs": [],
   "source": [
    "a = [1,2]\n",
    "b = [3,4]\n",
    "\n",
    "print(type(a), type(b)) #<class 'list'> <class 'list'>\n",
    "print(len(a), a)        # 2 [1, 2]\n",
    "print(len(b), b)        # 2 [3, 4]\n",
    "print(a+b)              # [1, 2, 3, 4]: appending"
   ]
  },
  {
   "cell_type": "code",
   "execution_count": null,
   "metadata": {
    "slideshow": {
     "slide_type": "slide"
    }
   },
   "outputs": [],
   "source": [
    "aa = np.array(a) # from Python List to NumPy Array\n",
    "bb = np.array(b) # from Python List to NumPy Array\n",
    "\n",
    "print(aa.dtype, bb.dtype) # int64 int64\n",
    "print(type(aa), type(bb)) # int64 int64\n",
    "print(len(aa), aa) # 1 [1,2]\n",
    "print(len(bb), bb) # 1 [3,4]\n",
    "print(aa+bb) # [4, 6]: vector operation"
   ]
  },
  {
   "cell_type": "markdown",
   "metadata": {
    "slideshow": {
     "slide_type": "slide"
    }
   },
   "source": [
    "## np array 구조 (shape, ndim, axis, len, size)"
   ]
  },
  {
   "cell_type": "code",
   "execution_count": null,
   "metadata": {
    "slideshow": {
     "slide_type": "slide"
    }
   },
   "outputs": [],
   "source": [
    "#1차원 array 선언\n",
    "a1 = np.array([7,2,9,10])\n",
    "\n",
    "#len, shape, ndim 출력\n",
    "print('len', len(a1))\n",
    "print('shape', a1.shape)\n",
    "print('ndim', a1.ndim)\n",
    "print('size', a1.size)"
   ]
  },
  {
   "cell_type": "code",
   "execution_count": null,
   "metadata": {
    "slideshow": {
     "slide_type": "slide"
    }
   },
   "outputs": [],
   "source": [
    "#2차원 array 선언\n",
    "a2 = np.array([[5.2, 3.0, 4.5],\n",
    "               [9.1, 0.1, 0.3]])\n",
    "\n",
    "#len, shape, ndim 출력\n",
    "print('len', len(a2))\n",
    "print('shape', a2.shape)\n",
    "print('ndim', a2.ndim)\n",
    "print('size', a2.size)"
   ]
  },
  {
   "cell_type": "code",
   "execution_count": null,
   "metadata": {
    "slideshow": {
     "slide_type": "slide"
    }
   },
   "outputs": [],
   "source": [
    "#3차원 array 선언\n",
    "a3 = np.array([\n",
    "    [[1, 2], [4, 3], [7, 4]],\n",
    "    [[2, 1], [9, 2], [7, 5]],\n",
    "    [[1, 8], [3, 4], [0, 2]],\n",
    "    [[9, 4], [6, 2], [9, 8]]])\n",
    "\n",
    "#len, shape, ndim 출력\n",
    "print('len', len(a3))\n",
    "print('shape', a3.shape)\n",
    "print('ndim', a3.ndim)\n",
    "print('size', a3.size)"
   ]
  },
  {
   "cell_type": "markdown",
   "metadata": {
    "slideshow": {
     "slide_type": "slide"
    }
   },
   "source": [
    "## np array 기본 함수"
   ]
  },
  {
   "cell_type": "code",
   "execution_count": null,
   "metadata": {
    "slideshow": {
     "slide_type": "slide"
    }
   },
   "outputs": [],
   "source": [
    "a = np.array([1, 2, 3, 4, 5])\n",
    "#a를 전체 item 기준으로 sum과 prod 계산\n",
    "print(np.sum(a)) # 15 = 1+2+3+4+5\n",
    "print(np.prod(a)) # 120 = 1*2*3*4*5"
   ]
  },
  {
   "cell_type": "code",
   "execution_count": null,
   "metadata": {
    "slideshow": {
     "slide_type": "slide"
    }
   },
   "outputs": [],
   "source": [
    "#a를 전체 item 기준으로 평균, 분산, 표준편차 계산\n",
    "print(np.mean(a)) # 3.0 = (1+2+3+4+5)/5\n",
    "print(np.var(a)) # 2.0: variance\n",
    "print(np.std(a)) # 1.414..: std\n"
   ]
  },
  {
   "cell_type": "code",
   "execution_count": null,
   "metadata": {
    "slideshow": {
     "slide_type": "slide"
    }
   },
   "outputs": [],
   "source": [
    "#a를 전체 item 기준으로 최소, 최대값 계산\n",
    "print(np.min(a)) # 1: minimum\n",
    "print(np.max(a)) # 5: maximum"
   ]
  },
  {
   "cell_type": "code",
   "execution_count": null,
   "metadata": {
    "slideshow": {
     "slide_type": "slide"
    }
   },
   "outputs": [],
   "source": [
    "#a를 전체 item 기준으로 최소, 최대값의 index위치를 반환\n",
    "print(np.argmin(a)) # 0: the index of the min. value\n",
    "print(np.argmax(a)) # 4: the index of the max. value"
   ]
  },
  {
   "cell_type": "code",
   "execution_count": null,
   "metadata": {
    "slideshow": {
     "slide_type": "slide"
    }
   },
   "outputs": [],
   "source": [
    "a = np.array([[1, 2, 3, 4, 5], [6, 7, 8, 9, 10]])\n",
    "#a를 전체 item 기준으로 sum과 prod 계산\n",
    "print(np.sum(a))\n",
    "print(np.prod(a))"
   ]
  },
  {
   "cell_type": "code",
   "execution_count": null,
   "metadata": {
    "slideshow": {
     "slide_type": "slide"
    }
   },
   "outputs": [],
   "source": [
    "#axis를 바꿔가며 sum, prod 계산\n",
    "print(np.sum(a), np.sum(a, axis=0), np.sum(a, axis=1))\n",
    "print(np.prod(a), np.prod(a, axis=0), np.prod(a, axis=1))"
   ]
  },
  {
   "cell_type": "code",
   "execution_count": null,
   "metadata": {
    "slideshow": {
     "slide_type": "slide"
    }
   },
   "outputs": [],
   "source": [
    "#axis를 바꿔가며 mean, var, std 계산\n",
    "print(np.mean(a), np.mean(a, axis=0), np.mean(a, axis=1))\n",
    "print(np.var(a), np.var(a, axis=0), np.var(a, axis=1))\n",
    "print(np.std(a), np.std(a, axis=0), np.std(a, axis=1))"
   ]
  },
  {
   "cell_type": "code",
   "execution_count": null,
   "metadata": {
    "slideshow": {
     "slide_type": "slide"
    }
   },
   "outputs": [],
   "source": [
    "#axis를 바꿔가며 min, max 계산\n",
    "print(np.min(a), np.min(a, axis=0), np.min(a, axis=1))\n",
    "print(np.max(a), np.max(a, axis=0), np.max(a, axis=1))"
   ]
  },
  {
   "cell_type": "code",
   "execution_count": null,
   "metadata": {
    "slideshow": {
     "slide_type": "slide"
    }
   },
   "outputs": [],
   "source": [
    "#axis를 바꿔가며 argmin, argmax 계산\n",
    "print(np.argmin(a), np.argmin(a, axis=0), np.argmin(a, axis=1))\n",
    "print(np.argmax(a), np.argmax(a, axis=0), np.argmax(a, axis=1))"
   ]
  },
  {
   "cell_type": "markdown",
   "metadata": {
    "slideshow": {
     "slide_type": "slide"
    }
   },
   "source": [
    "## indexing & slicing"
   ]
  },
  {
   "cell_type": "code",
   "execution_count": null,
   "metadata": {
    "slideshow": {
     "slide_type": "slide"
    }
   },
   "outputs": [],
   "source": [
    "data = np.array([1, 2, 3, 4, 5, 6])\n",
    "#각 원소를 index를 이용하여 출력\n",
    "print(data[0], data[1])\n",
    "\n",
    "#연속된 원소를 slice를 이용하여 출력\n",
    "print(data[0:2])\n",
    "print(data[1:-1])\n",
    "print(data[3:])\n",
    "print(data[:4])"
   ]
  },
  {
   "cell_type": "code",
   "execution_count": null,
   "metadata": {
    "slideshow": {
     "slide_type": "slide"
    }
   },
   "outputs": [],
   "source": [
    "data = np.array([[1, 2, 3, 4, 5], [6, 7, 8, 9, 10]])\n",
    "#각 원소를 index를 이용하여 출력\n",
    "print(data[0], data[1])\n",
    "print(data[0][1], data[1][2])\n",
    "print(data[0, 1], data[1 ,2])"
   ]
  },
  {
   "cell_type": "code",
   "execution_count": null,
   "metadata": {},
   "outputs": [],
   "source": [
    "data.shape"
   ]
  },
  {
   "cell_type": "code",
   "execution_count": null,
   "metadata": {
    "slideshow": {
     "slide_type": "slide"
    }
   },
   "outputs": [],
   "source": [
    "#연속된 원소를 slice를 이용하여 출력\n",
    "print(data[0:1])\n",
    "print(data[0:2])\n",
    "\n",
    "print(data[0:1, 3])\n",
    "print(data[0:2, 3])"
   ]
  },
  {
   "cell_type": "code",
   "execution_count": null,
   "metadata": {},
   "outputs": [],
   "source": [
    "print(data[1, 1:3])\n",
    "print(data[0, 1:3])"
   ]
  },
  {
   "cell_type": "markdown",
   "metadata": {
    "slideshow": {
     "slide_type": "slide"
    }
   },
   "source": [
    "## np 산술 연산 (element-wise)"
   ]
  },
  {
   "cell_type": "code",
   "execution_count": null,
   "metadata": {
    "slideshow": {
     "slide_type": "slide"
    }
   },
   "outputs": [],
   "source": [
    "# shape이 같은 2개의 np array를 선언\n",
    "data = np.array([1, 2])\n",
    "ones = np.array([1, 1])"
   ]
  },
  {
   "cell_type": "code",
   "execution_count": null,
   "metadata": {
    "slideshow": {
     "slide_type": "slide"
    }
   },
   "outputs": [],
   "source": [
    "# 더하기 연산\n",
    "data + ones"
   ]
  },
  {
   "cell_type": "code",
   "execution_count": null,
   "metadata": {
    "slideshow": {
     "slide_type": "slide"
    }
   },
   "outputs": [],
   "source": [
    "# 빼기 연산\n",
    "data - ones"
   ]
  },
  {
   "cell_type": "code",
   "execution_count": null,
   "metadata": {
    "slideshow": {
     "slide_type": "slide"
    }
   },
   "outputs": [],
   "source": [
    "# 곱하기 연산\n",
    "data * ones"
   ]
  },
  {
   "cell_type": "code",
   "execution_count": null,
   "metadata": {
    "slideshow": {
     "slide_type": "slide"
    }
   },
   "outputs": [],
   "source": [
    "# 나누기 연산\n",
    "data / data"
   ]
  },
  {
   "cell_type": "markdown",
   "metadata": {
    "slideshow": {
     "slide_type": "slide"
    }
   },
   "source": [
    "## np 산술 연산 (matrix-multiplication)"
   ]
  },
  {
   "cell_type": "code",
   "execution_count": null,
   "metadata": {
    "slideshow": {
     "slide_type": "slide"
    }
   },
   "outputs": [],
   "source": [
    "a = np.array([[1,2],\n",
    "              [3,4]])\n",
    "\n",
    "b = np.array([[2,1],\n",
    "              [4,3]])"
   ]
  },
  {
   "cell_type": "code",
   "execution_count": null,
   "metadata": {
    "slideshow": {
     "slide_type": "slide"
    }
   },
   "outputs": [],
   "source": [
    "# element-wise product 연산\n",
    "print(a * b)"
   ]
  },
  {
   "cell_type": "code",
   "execution_count": null,
   "metadata": {
    "slideshow": {
     "slide_type": "slide"
    }
   },
   "outputs": [],
   "source": [
    "# matrix-multiplication 연산\n",
    "print(a @ b)"
   ]
  },
  {
   "cell_type": "code",
   "execution_count": null,
   "metadata": {
    "slideshow": {
     "slide_type": "slide"
    }
   },
   "outputs": [],
   "source": [
    "# matrix-multiplication 연산\n",
    "print(np.matmul(a, b))"
   ]
  },
  {
   "cell_type": "code",
   "execution_count": null,
   "metadata": {
    "slideshow": {
     "slide_type": "slide"
    }
   },
   "outputs": [],
   "source": [
    "# dot-product 연산\n",
    "print(np.dot(a, b))"
   ]
  },
  {
   "cell_type": "code",
   "execution_count": null,
   "metadata": {
    "slideshow": {
     "slide_type": "slide"
    }
   },
   "outputs": [],
   "source": [
    "a = np.array([[1,2],\n",
    "              [3,4],\n",
    "              [5,6]\n",
    "             ])\n",
    "\n",
    "b = np.array([[2,1],\n",
    "              [4,3]])\n",
    "\n",
    "print(a.shape, b.shape)"
   ]
  },
  {
   "cell_type": "code",
   "execution_count": null,
   "metadata": {
    "slideshow": {
     "slide_type": "slide"
    }
   },
   "outputs": [],
   "source": [
    "# 뒷 열과 앞 행이 같은 경우 연산 가능\n",
    "print(a @ b, (a @ b).shape)"
   ]
  },
  {
   "cell_type": "code",
   "execution_count": null,
   "metadata": {
    "slideshow": {
     "slide_type": "slide"
    }
   },
   "outputs": [],
   "source": [
    "a = np.array([[1,2,3],\n",
    "              [3,4,5],\n",
    "              [5,6,7]\n",
    "             ])\n",
    "\n",
    "b = np.array([[2,1,6,2],\n",
    "              [4,3,5,1],\n",
    "              [1,2,1,0]\n",
    "             ])\n",
    "\n",
    "# 뒷 열과 앞 행이 같은 경우 연산 가능\n",
    "print(a.shape, b.shape)\n",
    "print(a @ b, (a @ b).shape)"
   ]
  },
  {
   "cell_type": "code",
   "execution_count": null,
   "metadata": {
    "slideshow": {
     "slide_type": "slide"
    }
   },
   "outputs": [],
   "source": [
    "a = np.array([[1,2],\n",
    "              [3,4],\n",
    "              [5,6]\n",
    "             ])\n",
    "\n",
    "b = np.array([[2,1,6,2],\n",
    "              [4,3,5,1],\n",
    "              [1,2,1,0]\n",
    "             ])\n",
    "\n",
    "# 뒷 열과 앞 행이 다른 경우 연산 불가능\n",
    "print(a.shape, b.shape)\n",
    "print(a @ b, (a @ b).shape)"
   ]
  },
  {
   "cell_type": "markdown",
   "metadata": {
    "slideshow": {
     "slide_type": "slide"
    }
   },
   "source": [
    "## np Broadcasting"
   ]
  },
  {
   "cell_type": "code",
   "execution_count": null,
   "metadata": {
    "slideshow": {
     "slide_type": "slide"
    }
   },
   "outputs": [],
   "source": [
    "# shape이 다른 2개의 np array를 선언\n",
    "data = np.array([[1, 2], [3,4]])\n",
    "data2 = np.array([1, 1, 3])"
   ]
  },
  {
   "cell_type": "code",
   "execution_count": null,
   "metadata": {
    "slideshow": {
     "slide_type": "slide"
    }
   },
   "outputs": [],
   "source": [
    "# shape이 다른 자료는 연산 할 수 없음\n",
    "data + data2"
   ]
  },
  {
   "cell_type": "code",
   "execution_count": null,
   "metadata": {
    "slideshow": {
     "slide_type": "slide"
    }
   },
   "outputs": [],
   "source": [
    "# 상수와 연산\n",
    "data * 1.6"
   ]
  },
  {
   "cell_type": "code",
   "execution_count": null,
   "metadata": {
    "slideshow": {
     "slide_type": "slide"
    }
   },
   "outputs": [],
   "source": [
    "# data와 일부 shape이 같은 array로 연산\n",
    "data + np.array([1,1])"
   ]
  },
  {
   "cell_type": "markdown",
   "metadata": {
    "slideshow": {
     "slide_type": "slide"
    }
   },
   "source": [
    "## Transpose"
   ]
  },
  {
   "cell_type": "code",
   "execution_count": null,
   "metadata": {
    "slideshow": {
     "slide_type": "slide"
    }
   },
   "outputs": [],
   "source": [
    "# 2차원 np array 선언\n",
    "a = np.array([[1,2,3,4]])\n",
    "print(a, a.shape)\n",
    "\n",
    "b = np.array([1,2,3,4])\n",
    "print(b, b.shape)"
   ]
  },
  {
   "cell_type": "code",
   "execution_count": null,
   "metadata": {},
   "outputs": [],
   "source": [
    "np.array([1,2,3,4]).T"
   ]
  },
  {
   "cell_type": "code",
   "execution_count": null,
   "metadata": {
    "slideshow": {
     "slide_type": "slide"
    }
   },
   "outputs": [],
   "source": [
    "# a의 transpose\n",
    "print(a.T, a.T.shape)"
   ]
  },
  {
   "cell_type": "code",
   "execution_count": null,
   "metadata": {
    "slideshow": {
     "slide_type": "slide"
    }
   },
   "outputs": [],
   "source": [
    "# 2차원 np array 선언\n",
    "b = np.array([[1,2],[3,4]])\n",
    "print(b, b.shape)"
   ]
  },
  {
   "cell_type": "code",
   "execution_count": null,
   "metadata": {
    "slideshow": {
     "slide_type": "slide"
    }
   },
   "outputs": [],
   "source": [
    "# b의 transpose\n",
    "print(b.T, b.T.shape)"
   ]
  },
  {
   "cell_type": "code",
   "execution_count": null,
   "metadata": {},
   "outputs": [],
   "source": []
  }
 ],
 "metadata": {
  "celltoolbar": "Slideshow",
  "kernelspec": {
   "display_name": "tf2",
   "language": "python",
   "name": "tf2"
  },
  "language_info": {
   "codemirror_mode": {
    "name": "ipython",
    "version": 3
   },
   "file_extension": ".py",
   "mimetype": "text/x-python",
   "name": "python",
   "nbconvert_exporter": "python",
   "pygments_lexer": "ipython3",
   "version": "3.7.5"
  },
  "latex_envs": {
   "LaTeX_envs_menu_present": true,
   "autoclose": false,
   "autocomplete": true,
   "bibliofile": "biblio.bib",
   "cite_by": "apalike",
   "current_citInitial": 1,
   "eqLabelWithNumbers": true,
   "eqNumInitial": 1,
   "hotkeys": {
    "equation": "Ctrl-E",
    "itemize": "Ctrl-I"
   },
   "labels_anchors": false,
   "latex_user_defs": false,
   "report_style_numbering": false,
   "user_envs_cfg": false
  },
  "toc": {
   "base_numbering": 1,
   "nav_menu": {},
   "number_sections": false,
   "sideBar": false,
   "skip_h1_title": false,
   "title_cell": "Table of Contents",
   "title_sidebar": "Contents",
   "toc_cell": false,
   "toc_position": {
    "height": "47px",
    "left": "1616px",
    "top": "198px",
    "width": "159px"
   },
   "toc_section_display": false,
   "toc_window_display": false
  },
  "varInspector": {
   "cols": {
    "lenName": 16,
    "lenType": 16,
    "lenVar": 40
   },
   "kernels_config": {
    "python": {
     "delete_cmd_postfix": "",
     "delete_cmd_prefix": "del ",
     "library": "var_list.py",
     "varRefreshCmd": "print(var_dic_list())"
    },
    "r": {
     "delete_cmd_postfix": ") ",
     "delete_cmd_prefix": "rm(",
     "library": "var_list.r",
     "varRefreshCmd": "cat(var_dic_list()) "
    }
   },
   "types_to_exclude": [
    "module",
    "function",
    "builtin_function_or_method",
    "instance",
    "_Feature"
   ],
   "window_display": false
  }
 },
 "nbformat": 4,
 "nbformat_minor": 2
}
