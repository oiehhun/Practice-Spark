{
 "cells": [
  {
   "cell_type": "markdown",
   "metadata": {},
   "source": [
    "# 10강. Spark SQL DataFrames"
   ]
  },
  {
   "cell_type": "code",
   "execution_count": 1,
   "metadata": {},
   "outputs": [],
   "source": [
    "import findspark\n",
    "findspark.init('/opt/homebrew/Cellar/apache-spark/3.5.1/libexec')\n",
    "import pyspark"
   ]
  },
  {
   "cell_type": "code",
   "execution_count": 2,
   "metadata": {},
   "outputs": [
    {
     "name": "stderr",
     "output_type": "stream",
     "text": [
      "24/04/03 21:11:54 WARN Utils: Your hostname, itaehun-ui-MacBookAir.local resolves to a loopback address: 127.0.0.1; using 172.24.96.75 instead (on interface en0)\n",
      "24/04/03 21:11:54 WARN Utils: Set SPARK_LOCAL_IP if you need to bind to another address\n",
      "Setting default log level to \"WARN\".\n",
      "To adjust logging level use sc.setLogLevel(newLevel). For SparkR, use setLogLevel(newLevel).\n",
      "24/04/03 21:11:55 WARN NativeCodeLoader: Unable to load native-hadoop library for your platform... using builtin-java classes where applicable\n"
     ]
    },
    {
     "name": "stdout",
     "output_type": "stream",
     "text": [
      "+-----+\n",
      "|hello|\n",
      "+-----+\n",
      "|spark|\n",
      "+-----+\n",
      "\n"
     ]
    }
   ],
   "source": [
    "from pyspark.sql import SparkSession\n",
    "spark = SparkSession.builder.master(\"local\").appName(\"SimpleTest\").getOrCreate()\n",
    "df = spark.sql('''select 'spark' as hello ''')\n",
    "df.show()\n",
    "#spark.stop()"
   ]
  },
  {
   "cell_type": "markdown",
   "metadata": {},
   "source": [
    "##### 1) structField와 structType을 이용하여 schema를 부여하고 Dataframe을 만들어 보자"
   ]
  },
  {
   "cell_type": "markdown",
   "metadata": {},
   "source": [
    "<div class=\"alert alert-warning\"/>\n",
    "- spark.createDataFrame(data, schema=None, samplingRatio=None, verifySchema=True)<br>\n",
    " + data를 dataFrame으로 생성한다 schema가 정의되어 있을때 verifySchema가 True면 invalid 할 시 에러를 냄<br>\n",
    " + pyspark.sql.types 아래의 StructField로 field의 타입 이름, null 값여부를 지정하고<br>\n",
    " + 각 field들을 StructType로 묶어 schema를 만듬<br><br>\n",
    "- df.show(n=20, truncate=True, vertical=False)<br>\n",
    " + df의 데이터를 주어진 n개만큼 출력한다 truncate가 True일 경우 column이 너무 많을 경우 자른다.<br>\n",
    " + vertical이 True일 경우 column의 출력형태를 변경함<br><br>\n",
    "- df.printSchema()<br>\n",
    " + df의 schema 형태를 출력함<br><br>\n",
    "- df.describe(*cols)<br>\n",
    " + 주어진 cols이 숫자형 컬럼이라면 기본통계를 추출함<br>"
   ]
  },
  {
   "cell_type": "code",
   "execution_count": 3,
   "metadata": {},
   "outputs": [
    {
     "name": "stdout",
     "output_type": "stream",
     "text": [
      "+----+---+-------+\n",
      "|name|age|country|\n",
      "+----+---+-------+\n",
      "| Son| 34|  Korea|\n",
      "| Kim| 24|  Japan|\n",
      "|Park| 14|  China|\n",
      "+----+---+-------+\n",
      "\n"
     ]
    }
   ],
   "source": [
    "r1 = ['Son', 34, 'Korea']\n",
    "r2 = ['Kim', 24, 'Japan']\n",
    "r3 = ['Park', 14, 'China']\n",
    "\n",
    "from pyspark.sql  import types\n",
    "sf1 = types.StructField('name', types.StringType(), True)\n",
    "sf2 = types.StructField('age', types.IntegerType(), True)\n",
    "sf3 = types.StructField('country', types.StringType(), True)\n",
    "\n",
    "schema = types.StructType([sf1, sf2, sf3])\n",
    "rows = [r1, r2, r3]\n",
    "\n",
    "df_first = spark.createDataFrame(rows, schema)\n",
    "df_first.show()"
   ]
  },
  {
   "cell_type": "code",
   "execution_count": 4,
   "metadata": {},
   "outputs": [
    {
     "name": "stdout",
     "output_type": "stream",
     "text": [
      "root\n",
      " |-- name: string (nullable = true)\n",
      " |-- age: integer (nullable = true)\n",
      " |-- country: string (nullable = true)\n",
      "\n"
     ]
    }
   ],
   "source": [
    "df_first.printSchema()"
   ]
  },
  {
   "cell_type": "code",
   "execution_count": 5,
   "metadata": {},
   "outputs": [
    {
     "name": "stdout",
     "output_type": "stream",
     "text": [
      "+-------+----+----+-------+\n",
      "|summary|name| age|country|\n",
      "+-------+----+----+-------+\n",
      "|  count|   3|   3|      3|\n",
      "|   mean|NULL|24.0|   NULL|\n",
      "| stddev|NULL|10.0|   NULL|\n",
      "|    min| Kim|  14|  China|\n",
      "|    max| Son|  34|  Korea|\n",
      "+-------+----+----+-------+\n",
      "\n"
     ]
    }
   ],
   "source": [
    "df_first.describe().show()"
   ]
  },
  {
   "cell_type": "markdown",
   "metadata": {},
   "source": [
    "<div class=\"alert alert-warning\"/>\n",
    "- rdd와 마찬가지로 take(n),  count(), collect()같은 기능과 처음 record를 볼 수 있는 head(), first() 등이 존재<br>\n",
    "- df는 pyspark.sql.types.Row로 구성되어져 있음<br>\n",
    "- row는 field name을 이용하여 각 field에 값에 접근 할 수 있음<br>"
   ]
  },
  {
   "cell_type": "code",
   "execution_count": 6,
   "metadata": {},
   "outputs": [
    {
     "data": {
      "text/plain": [
       "Row(name='Son', age=34, country='Korea')"
      ]
     },
     "execution_count": 6,
     "metadata": {},
     "output_type": "execute_result"
    }
   ],
   "source": [
    "row = df_first.head()\n",
    "row"
   ]
  },
  {
   "cell_type": "code",
   "execution_count": 7,
   "metadata": {},
   "outputs": [
    {
     "data": {
      "text/plain": [
       "pyspark.sql.types.Row"
      ]
     },
     "execution_count": 7,
     "metadata": {},
     "output_type": "execute_result"
    }
   ],
   "source": [
    "type(row)"
   ]
  },
  {
   "cell_type": "code",
   "execution_count": 8,
   "metadata": {},
   "outputs": [
    {
     "data": {
      "text/plain": [
       "34"
      ]
     },
     "execution_count": 8,
     "metadata": {},
     "output_type": "execute_result"
    }
   ],
   "source": [
    "row['age'] \n",
    "# 딕셔너리 처럼 사용할 수는 있지만 할당할 수는 없음 row['age'] = 100 X"
   ]
  },
  {
   "cell_type": "markdown",
   "metadata": {},
   "source": [
    "##### 2) word count를 Spark SQL - Dataframe을 이용하여 만들어 보자"
   ]
  },
  {
   "cell_type": "code",
   "execution_count": 9,
   "metadata": {
    "scrolled": true
   },
   "outputs": [
    {
     "data": {
      "text/plain": [
       "['',\n",
       " 'Word count',\n",
       " 'From Wikipedia, the free encyclopedia',\n",
       " 'Jump to navigationJump to search',\n",
       " 'The word count is the number of words in a document or passage of text. Word counting may be needed when a text is required to stay within certain numbers of words. This may particularly be the case in academia, legal proceedings, journalism and advertising. Word count is commonly used by translators to determine the price for the translation job. Word counts may also be used to calculate measures of readability and to measure typing and reading speeds (usually in words per minute). When converting character counts to words, a measure of 5 or 6 characters to a word is generally used for English.[1]',\n",
       " '',\n",
       " '',\n",
       " 'Contents',\n",
       " '1\\tDetails and variations of definition',\n",
       " '2\\tSoftware']"
      ]
     },
     "execution_count": 9,
     "metadata": {},
     "output_type": "execute_result"
    }
   ],
   "source": [
    "rdd = spark.sparkContext.textFile('./data/wiki_wordcount.txt')\n",
    "rdd.take(10)"
   ]
  },
  {
   "cell_type": "markdown",
   "metadata": {},
   "source": [
    "<div class=\"alert alert-warning\"/>\n",
    "- rdd.toDF(schema=None, sampleRatio=None)<br>\n",
    " + rdd는 toDF를 통하여 dataframe으로 간단히 변경 시킬 수 있음\n",
    " + schema나 sampleRatio를 이용하여 변경될 때 데이터 형식, 컬럼 이름, 변경 비율등을 설정 가능<br>\n",
    "- df.groupBy(*cols)<br>\n",
    " + 주어진 컬럼 형태에 따라 groupby를 실행함. df는 reduce가 없기 때문에 groupBy + agg 연산을 결합하는 것이 일반적<br>\n",
    "- df.agg(*cols)<br>\n",
    " + 주어진 groupedData에 agg용 function을 수행함.\n",
    " + from pyspark.sql import functions 참고"
   ]
  },
  {
   "cell_type": "code",
   "execution_count": 10,
   "metadata": {
    "scrolled": true
   },
   "outputs": [
    {
     "name": "stdout",
     "output_type": "stream",
     "text": [
      "+--------------+---+\n",
      "|          word|cnt|\n",
      "+--------------+---+\n",
      "|          Word|  1|\n",
      "|         count|  1|\n",
      "|          From|  1|\n",
      "|    Wikipedia,|  1|\n",
      "|           the|  1|\n",
      "|          free|  1|\n",
      "|  encyclopedia|  1|\n",
      "|          Jump|  1|\n",
      "|            to|  1|\n",
      "|navigationJump|  1|\n",
      "|            to|  1|\n",
      "|        search|  1|\n",
      "|           The|  1|\n",
      "|          word|  1|\n",
      "|         count|  1|\n",
      "|            is|  1|\n",
      "|           the|  1|\n",
      "|        number|  1|\n",
      "|            of|  1|\n",
      "|         words|  1|\n",
      "+--------------+---+\n",
      "only showing top 20 rows\n",
      "\n"
     ]
    }
   ],
   "source": [
    "# rdd를 사용하다가 DataFrame으로 변환하고 다시 rdd를 사용해도 무방함\n",
    "df = rdd.flatMap(lambda x:x.split()).map(lambda x:(x,1)).toDF(['word', 'cnt'])\n",
    "df.show()"
   ]
  },
  {
   "cell_type": "code",
   "execution_count": 11,
   "metadata": {},
   "outputs": [
    {
     "name": "stdout",
     "output_type": "stream",
     "text": [
      "+-------+-----------------+----+\n",
      "|summary|             word| cnt|\n",
      "+-------+-----------------+----+\n",
      "|  count|             1276|1276|\n",
      "|   mean|            508.3| 1.0|\n",
      "| stddev|889.1919513332256| 0.0|\n",
      "|    min|          \"Agents|   1|\n",
      "|    max|            فارسی|   1|\n",
      "+-------+-----------------+----+\n",
      "\n"
     ]
    }
   ],
   "source": [
    "df.describe().show()"
   ]
  },
  {
   "cell_type": "code",
   "execution_count": 12,
   "metadata": {},
   "outputs": [
    {
     "name": "stdout",
     "output_type": "stream",
     "text": [
      "root\n",
      " |-- word: string (nullable = true)\n",
      " |-- cnt: long (nullable = true)\n",
      "\n"
     ]
    }
   ],
   "source": [
    "df.printSchema()"
   ]
  },
  {
   "cell_type": "code",
   "execution_count": 13,
   "metadata": {
    "scrolled": false
   },
   "outputs": [
    {
     "name": "stdout",
     "output_type": "stream",
     "text": [
      "+-----+-----+\n",
      "| word|count|\n",
      "+-----+-----+\n",
      "|  the|   50|\n",
      "|   of|   40|\n",
      "|    a|   36|\n",
      "|  and|   27|\n",
      "|   to|   26|\n",
      "|   is|   22|\n",
      "| word|   22|\n",
      "|   in|   14|\n",
      "|   on|   14|\n",
      "|words|   14|\n",
      "|  for|   12|\n",
      "|  The|   10|\n",
      "| Word|   10|\n",
      "|   as|   10|\n",
      "|count|    9|\n",
      "|  may|    9|\n",
      "|   or|    9|\n",
      "|   be|    8|\n",
      "| also|    6|\n",
      "|   by|    6|\n",
      "+-----+-----+\n",
      "only showing top 20 rows\n",
      "\n"
     ]
    }
   ],
   "source": [
    "df.groupBy('word').count().orderBy([\"count\", \"word\"], ascending=[0, 1]).show() # 0: 내림차순, 1: 오름차순"
   ]
  },
  {
   "cell_type": "code",
   "execution_count": 16,
   "metadata": {},
   "outputs": [
    {
     "name": "stdout",
     "output_type": "stream",
     "text": [
      "+-----+------+\n",
      "| word|count2|\n",
      "+-----+------+\n",
      "|  the|    50|\n",
      "|   of|    40|\n",
      "|    a|    36|\n",
      "|  and|    27|\n",
      "|   to|    26|\n",
      "|   is|    22|\n",
      "| word|    22|\n",
      "|   in|    14|\n",
      "|   on|    14|\n",
      "|words|    14|\n",
      "|  for|    12|\n",
      "|  The|    10|\n",
      "| Word|    10|\n",
      "|   as|    10|\n",
      "|count|     9|\n",
      "|  may|     9|\n",
      "|   or|     9|\n",
      "|   be|     8|\n",
      "| also|     6|\n",
      "|   by|     6|\n",
      "+-----+------+\n",
      "only showing top 20 rows\n",
      "\n"
     ]
    }
   ],
   "source": [
    "from pyspark.sql import functions as func\n",
    "from pyspark.sql import Column\n",
    "df.groupBy('word').agg(func.count(df.cnt).alias('count2')).orderBy([\"count2\", \"word\"], ascending=[0, 1]).show()"
   ]
  },
  {
   "cell_type": "markdown",
   "metadata": {},
   "source": [
    "##### 3) DataFrameReader/DataFrameWriter를 이용하여 입출력을 수행하여보자\n",
    "- 외부 데이터를 df로 읽거나 쓰기 위해서 read/write 메서드를 지원함\n",
    "- read 순서\n",
    " + read 메서드 호출 -> DataFrameReader 인스턴스 생성\n",
    " + format 메서드를 이용하여 read되는 데이터 소스 유형을 지정 (text, csv, json, jdbc, kafka,parquet, console, socket 등)\n",
    " + option format 별 상세 옵션 지정\n",
    " + load 메서드로 실제 df를 생성"
   ]
  },
  {
   "cell_type": "code",
   "execution_count": 15,
   "metadata": {},
   "outputs": [
    {
     "name": "stdout",
     "output_type": "stream",
     "text": [
      "+--------------------+\n",
      "|               value|\n",
      "+--------------------+\n",
      "|                    |\n",
      "|          Word count|\n",
      "|From Wikipedia, t...|\n",
      "|Jump to navigatio...|\n",
      "|The word count is...|\n",
      "+--------------------+\n",
      "only showing top 5 rows\n",
      "\n"
     ]
    }
   ],
   "source": [
    "df_wordcnt = spark.read.format('text').load('./data/wiki_wordcount.txt')\n",
    "df_wordcnt.show(5)"
   ]
  },
  {
   "cell_type": "code",
   "execution_count": 17,
   "metadata": {},
   "outputs": [
    {
     "name": "stdout",
     "output_type": "stream",
     "text": [
      "+--------------------+\n",
      "|                text|\n",
      "+--------------------+\n",
      "|                    |\n",
      "|          Word count|\n",
      "|From Wikipedia, t...|\n",
      "|Jump to navigatio...|\n",
      "|The word count is...|\n",
      "+--------------------+\n",
      "only showing top 5 rows\n",
      "\n"
     ]
    }
   ],
   "source": [
    "# column명을 변경\n",
    "df_wordcnt2 = df_wordcnt.withColumnRenamed(\"value\", \"text\")\n",
    "df_wordcnt2.show(5)"
   ]
  },
  {
   "cell_type": "code",
   "execution_count": 18,
   "metadata": {},
   "outputs": [
    {
     "name": "stdout",
     "output_type": "stream",
     "text": [
      "+--------------------+\n",
      "|                   a|\n",
      "+--------------------+\n",
      "|                    |\n",
      "|          Word count|\n",
      "|From Wikipedia, t...|\n",
      "|Jump to navigatio...|\n",
      "|The word count is...|\n",
      "+--------------------+\n",
      "only showing top 5 rows\n",
      "\n"
     ]
    }
   ],
   "source": [
    "df_wordcnt3 = df_wordcnt2.withColumnRenamed(\"text\", \"a\")\n",
    "df_wordcnt3.show(5)"
   ]
  },
  {
   "cell_type": "code",
   "execution_count": 19,
   "metadata": {},
   "outputs": [
    {
     "name": "stdout",
     "output_type": "stream",
     "text": [
      "+----+---+-------+\n",
      "|name|age|country|\n",
      "+----+---+-------+\n",
      "| Son| 34|  Korea|\n",
      "| Kim| 24|  Japan|\n",
      "|Park| 14|  China|\n",
      "+----+---+-------+\n",
      "\n"
     ]
    }
   ],
   "source": [
    "df_first.show()"
   ]
  },
  {
   "cell_type": "markdown",
   "metadata": {},
   "source": [
    "- write 순서\n",
    " + write 메서드 호출 -> DataFrameWriter 인스턴스 생성\n",
    " + format 메서드를 이용하여 read되는 데이터 소스 유형을 지정 (text, csv, json, jdbc, kafka,parquet, console, socket 등)\n",
    " + option format 별 상세 옵션 지정\n",
    " + save 메서드로 실제 파일을 생성"
   ]
  },
  {
   "cell_type": "code",
   "execution_count": 20,
   "metadata": {},
   "outputs": [],
   "source": [
    "df_first.write.format('csv').mode(\"overwrite\").save('./data/df_first.csv')\n",
    "df_first.write.format('json').mode(\"overwrite\").save('./data/df_first.json')"
   ]
  },
  {
   "cell_type": "markdown",
   "metadata": {},
   "source": [
    "<div class=\"alert alert-warning\"/>\n",
    "- spark.createDataFrame(*cols)<br>\n",
    " + 해당 메서드를 이용하여 pandas dataframe을 바로 spark dataframe으로 변경하는 것도 가능"
   ]
  },
  {
   "cell_type": "code",
   "execution_count": 24,
   "metadata": {},
   "outputs": [
    {
     "name": "stdout",
     "output_type": "stream",
     "text": [
      "+---+---+\n",
      "|  k|  v|\n",
      "+---+---+\n",
      "|foo|  1|\n",
      "|bar|  2|\n",
      "+---+---+\n",
      "\n"
     ]
    },
    {
     "data": {
      "text/html": [
       "<div>\n",
       "<style scoped>\n",
       "    .dataframe tbody tr th:only-of-type {\n",
       "        vertical-align: middle;\n",
       "    }\n",
       "\n",
       "    .dataframe tbody tr th {\n",
       "        vertical-align: top;\n",
       "    }\n",
       "\n",
       "    .dataframe thead th {\n",
       "        text-align: right;\n",
       "    }\n",
       "</style>\n",
       "<table border=\"1\" class=\"dataframe\">\n",
       "  <thead>\n",
       "    <tr style=\"text-align: right;\">\n",
       "      <th></th>\n",
       "      <th>k</th>\n",
       "      <th>v</th>\n",
       "    </tr>\n",
       "  </thead>\n",
       "  <tbody>\n",
       "    <tr>\n",
       "      <th>0</th>\n",
       "      <td>foo</td>\n",
       "      <td>1</td>\n",
       "    </tr>\n",
       "    <tr>\n",
       "      <th>1</th>\n",
       "      <td>bar</td>\n",
       "      <td>2</td>\n",
       "    </tr>\n",
       "  </tbody>\n",
       "</table>\n",
       "</div>"
      ],
      "text/plain": [
       "     k  v\n",
       "0  foo  1\n",
       "1  bar  2"
      ]
     },
     "execution_count": 24,
     "metadata": {},
     "output_type": "execute_result"
    }
   ],
   "source": [
    "import pandas as pd\n",
    "df_pd = pd.DataFrame([(\"foo\", 1), (\"bar\", 2)], columns=(\"k\", \"v\"))\n",
    "sdf = spark.createDataFrame(df_pd)\n",
    "sdf.show()\n",
    "df_pd"
   ]
  },
  {
   "cell_type": "markdown",
   "metadata": {},
   "source": [
    "##### 4) DataFrame의 비타입 연산(untyped operation)(API)을 이용한 word count \n",
    "- dataFrame의 연산을 일반적으로 비타입연산이라고 부름\n",
    "- 비타입연산은 각각의 row에 대하여 다시 지정된 col의 형태로 로직이 처리되는 형태를 보임"
   ]
  },
  {
   "cell_type": "markdown",
   "metadata": {},
   "source": [
    "<div class=\"alert alert-warning\"/>\n",
    "- df.select(*cols)<br>\n",
    " + df에서 지정된 cols를 반환함<br>\n",
    " + 비타입연산 func을 이용하여 col의 value를 변환시킬 수 있음<br>\n",
    " + col은 문자열이외에도 pyspark.sql.functions.col을 이용하여 반환 될 수 있음<br>\n",
    " + pyspark.sql.functions.col은 pyspark.sql.Column을 생성함.<br>\n",
    " + 해당 인스턴스는 실제 col에 대한 정보를 변경 할 수 있음<br>\n",
    "- functions.split(str, sep)<br>\n",
    " + 주어진 문자열을 주어진 sep으로 분리하여 배열 형태로 저장\n",
    "- explode(col)<br>\n",
    " + 주어진 컬럼안의 배열을 각 row로 분리하여 저장"
   ]
  },
  {
   "cell_type": "code",
   "execution_count": 25,
   "metadata": {},
   "outputs": [
    {
     "data": {
      "text/plain": [
       "DataFrame[age: int, cty: string]"
      ]
     },
     "execution_count": 25,
     "metadata": {},
     "output_type": "execute_result"
    }
   ],
   "source": [
    "a = df_first.select(['age', 'country'])\n",
    "a.withColumnRenamed('country', 'cty')"
   ]
  },
  {
   "cell_type": "code",
   "execution_count": 26,
   "metadata": {},
   "outputs": [
    {
     "name": "stdout",
     "output_type": "stream",
     "text": [
      "+---+-------+\n",
      "|age|country|\n",
      "+---+-------+\n",
      "| 34|  Korea|\n",
      "| 24|  Japan|\n",
      "| 14|  China|\n",
      "+---+-------+\n",
      "\n"
     ]
    }
   ],
   "source": [
    "a.show()"
   ]
  },
  {
   "cell_type": "code",
   "execution_count": 27,
   "metadata": {},
   "outputs": [
    {
     "name": "stdout",
     "output_type": "stream",
     "text": [
      "+-------+---+\n",
      "|country|age|\n",
      "+-------+---+\n",
      "|  Korea| 34|\n",
      "|  Japan| 24|\n",
      "|  China| 14|\n",
      "+-------+---+\n",
      "\n"
     ]
    }
   ],
   "source": [
    "from pyspark.sql import Column\n",
    "df_first.select([func.col('country'), func.col('age')]).show(5)"
   ]
  },
  {
   "cell_type": "code",
   "execution_count": 28,
   "metadata": {},
   "outputs": [
    {
     "name": "stdout",
     "output_type": "stream",
     "text": [
      "+-----+---+\n",
      "|  cty|age|\n",
      "+-----+---+\n",
      "|Korea| 34|\n",
      "|Japan| 24|\n",
      "|China| 14|\n",
      "+-----+---+\n",
      "\n"
     ]
    }
   ],
   "source": [
    "from pyspark.sql import Column\n",
    "df_first.select([func.col('country').alias('cty'), func.col('age')]).show(5)"
   ]
  },
  {
   "cell_type": "code",
   "execution_count": 30,
   "metadata": {},
   "outputs": [
    {
     "name": "stdout",
     "output_type": "stream",
     "text": [
      "+-----------+\n",
      "|         _1|\n",
      "+-----------+\n",
      "|a b c d e f|\n",
      "+-----------+\n",
      "\n",
      "+------------------+\n",
      "|              word|\n",
      "+------------------+\n",
      "|[a, b, c, d, e, f]|\n",
      "+------------------+\n",
      "\n"
     ]
    }
   ],
   "source": [
    "df = spark.createDataFrame([['a b c d e f']])\n",
    "df.show()\n",
    "df.select(func.split(func.col('_1'), ' ').alias('word')).show()"
   ]
  },
  {
   "cell_type": "code",
   "execution_count": 31,
   "metadata": {},
   "outputs": [
    {
     "name": "stdout",
     "output_type": "stream",
     "text": [
      "+-----------+\n",
      "|         _1|\n",
      "+-----------+\n",
      "|a b c d e f|\n",
      "+-----------+\n",
      "\n"
     ]
    }
   ],
   "source": [
    "spark.createDataFrame([['a b c d e f']]).show()"
   ]
  },
  {
   "cell_type": "code",
   "execution_count": 32,
   "metadata": {},
   "outputs": [
    {
     "name": "stdout",
     "output_type": "stream",
     "text": [
      "+---+\n",
      "|col|\n",
      "+---+\n",
      "|  a|\n",
      "|  b|\n",
      "|  c|\n",
      "|  d|\n",
      "|  e|\n",
      "|  f|\n",
      "+---+\n",
      "\n"
     ]
    }
   ],
   "source": [
    "# explode : 행을 열로 변환\n",
    "df = spark.createDataFrame([['a b c d e f']])\n",
    "df.select(func.explode(func.split(func.col('_1'), ' '))).show()"
   ]
  },
  {
   "cell_type": "code",
   "execution_count": 33,
   "metadata": {},
   "outputs": [
    {
     "data": {
      "text/plain": [
       "[Row(_1='a b c d e f')]"
      ]
     },
     "execution_count": 33,
     "metadata": {},
     "output_type": "execute_result"
    }
   ],
   "source": [
    "df.rdd.collect() # 비싼 연산은 아님"
   ]
  },
  {
   "cell_type": "markdown",
   "metadata": {},
   "source": [
    "### df_wordcnt 를 이용하여 word count를 Dataframe 명령어로 구현해보자\n",
    "- 정렬은 count 내림 차순 동일한 count를 가진 경우 word 오름차순으로 한다"
   ]
  },
  {
   "cell_type": "code",
   "execution_count": 34,
   "metadata": {},
   "outputs": [
    {
     "name": "stdout",
     "output_type": "stream",
     "text": [
      "+----+-----+\n",
      "|word|count|\n",
      "+----+-----+\n",
      "| the|   50|\n",
      "|  of|   40|\n",
      "|   a|   36|\n",
      "| and|   27|\n",
      "|  to|   26|\n",
      "+----+-----+\n",
      "only showing top 5 rows\n",
      "\n"
     ]
    }
   ],
   "source": [
    "df1 = df_wordcnt.select(func.explode(func.split(func.col('value'), ' ')).alias('word'))\n",
    "df2 = df1.groupBy('word').count().orderBy(['count', 'word'], ascending=[0, 1])\n",
    "df2.show(5)"
   ]
  },
  {
   "cell_type": "markdown",
   "metadata": {},
   "source": [
    "##### 5) Spark SQL을 이용하여 dataframe을 sql을 이용하여 컨트롤 해보자 (아주 중요한 개념)\n",
    "- df는 바로 sql문을 이용하여 처리 될 수 없음\n",
    "- df.createOrReplaceTempView라는 메서드를 통하여 임시의 테이블로 등록된 후 sql로 처리 될 수 있음"
   ]
  },
  {
   "cell_type": "markdown",
   "metadata": {},
   "source": [
    "<div class=\"alert alert-warning\"/>\n",
    "- df.createOrReplaceTempViewe(name)<br>\n",
    " + df를 주어진 name의 임시 테이블로 생성<br>\n",
    " + 해당 테이블은 해당 메서드를 실행한 스파크 세션이 유지되는 동안만 유효함<br>\n",
    "- df.createOrReplaceGlobalTempView(name) <- 다른 사람과의 충돌이 일어날 수 있기 떄문에 잘 사용하지는 않음<br>\n",
    " + df를 주어진 name의 글로벌 테이블로 생성<br>\n",
    " + 해당 테이블은 전역적인 스파크 세션이 유지되는 동안 유효함<br>\n",
    "- explain()\n",
    " + spark.sql의 실행 계획을 출력함<br>"
   ]
  },
  {
   "cell_type": "code",
   "execution_count": 35,
   "metadata": {},
   "outputs": [],
   "source": [
    "df2.createOrReplaceTempView('wordcnt') # wordcnt라는 이름으로 임시 테이블 생성"
   ]
  },
  {
   "cell_type": "code",
   "execution_count": 36,
   "metadata": {},
   "outputs": [
    {
     "name": "stdout",
     "output_type": "stream",
     "text": [
      "+-----+-----+\n",
      "| word|count|\n",
      "+-----+-----+\n",
      "|  the|   50|\n",
      "|   of|   40|\n",
      "|    a|   36|\n",
      "|  and|   27|\n",
      "|   to|   26|\n",
      "|     |   25|\n",
      "|   is|   22|\n",
      "| word|   22|\n",
      "|   in|   14|\n",
      "|   on|   14|\n",
      "|words|   14|\n",
      "|  for|   12|\n",
      "|  The|   10|\n",
      "|   as|   10|\n",
      "| Word|    9|\n",
      "|count|    9|\n",
      "|  may|    9|\n",
      "|   or|    9|\n",
      "|   be|    8|\n",
      "| also|    6|\n",
      "+-----+-----+\n",
      "only showing top 20 rows\n",
      "\n"
     ]
    }
   ],
   "source": [
    "df2.show()"
   ]
  },
  {
   "cell_type": "code",
   "execution_count": 37,
   "metadata": {},
   "outputs": [
    {
     "name": "stdout",
     "output_type": "stream",
     "text": [
      "+-----+-----+\n",
      "| word|count|\n",
      "+-----+-----+\n",
      "|  the|   50|\n",
      "|   of|   40|\n",
      "|    a|   36|\n",
      "|  and|   27|\n",
      "|   to|   26|\n",
      "|     |   25|\n",
      "|   is|   22|\n",
      "| word|   22|\n",
      "|   in|   14|\n",
      "|   on|   14|\n",
      "|words|   14|\n",
      "|  for|   12|\n",
      "|  The|   10|\n",
      "|   as|   10|\n",
      "| Word|    9|\n",
      "|count|    9|\n",
      "|  may|    9|\n",
      "|   or|    9|\n",
      "|   be|    8|\n",
      "| also|    6|\n",
      "+-----+-----+\n",
      "only showing top 20 rows\n",
      "\n"
     ]
    }
   ],
   "source": [
    "# 우리가 아는 일반적인 SQL문을 사용할 수 있음\n",
    "spark.sql('select * from wordcnt').show()"
   ]
  },
  {
   "cell_type": "code",
   "execution_count": 38,
   "metadata": {},
   "outputs": [
    {
     "name": "stdout",
     "output_type": "stream",
     "text": [
      "== Physical Plan ==\n",
      "AdaptiveSparkPlan isFinalPlan=false\n",
      "+- Sort [count#740L DESC NULLS LAST, word#736 ASC NULLS FIRST], true, 0\n",
      "   +- Exchange rangepartitioning(count#740L DESC NULLS LAST, word#736 ASC NULLS FIRST, 200), ENSURE_REQUIREMENTS, [plan_id=689]\n",
      "      +- HashAggregate(keys=[word#736], functions=[count(1)])\n",
      "         +- Exchange hashpartitioning(word#736, 200), ENSURE_REQUIREMENTS, [plan_id=686]\n",
      "            +- HashAggregate(keys=[word#736], functions=[partial_count(1)])\n",
      "               +- Filter (word#736 = words)\n",
      "                  +- Generate explode(split(value#558,  , -1)), false, [word#736]\n",
      "                     +- FileScan text [value#558] Batched: false, DataFilters: [], Format: Text, Location: InMemoryFileIndex(1 paths)[file:/Users/itaehun/python/빅실무/data/wiki_wordcount.txt], PartitionFilters: [], PushedFilters: [], ReadSchema: struct<value:string>\n",
      "\n",
      "\n"
     ]
    }
   ],
   "source": [
    "spark.sql('select * from wordcnt where word == \"words\"').explain()"
   ]
  },
  {
   "cell_type": "code",
   "execution_count": 39,
   "metadata": {},
   "outputs": [
    {
     "name": "stdout",
     "output_type": "stream",
     "text": [
      "+-----+-----+\n",
      "| word|count|\n",
      "+-----+-----+\n",
      "|words|   14|\n",
      "+-----+-----+\n",
      "\n"
     ]
    }
   ],
   "source": [
    "spark.sql('select * from wordcnt where word == \"words\"').show()"
   ]
  },
  {
   "cell_type": "markdown",
   "metadata": {},
   "source": [
    "##### 6) udf (user define function) 을 이용하여 custom function을 수행해보자"
   ]
  },
  {
   "cell_type": "markdown",
   "metadata": {},
   "source": [
    "<div class=\"alert alert-warning\"/>\n",
    "- pyspark.sql.functions.udf(f=None, returnType=StringType) <- returnType=StringType을 꼭 지정 시켜야함<br>\n",
    " + f에서 수행될 function, returnType에서 pyspark.sql.types의 타입 중 수행후 반환될 타입을 지정히여 udf를 생성할 수 있음<br>\n",
    " + 해당 udf는 dataframe에서는 바로 사용 될 수 있지만, spark.sql 에서는 사용될 수 없음\n",
    "- spark.udf.register(name, f=None, returnType=StringType)<br>\n",
    " + 해당 등록 과정을 통하여 spark.sql안에서도 udf를 사용할 수 있음, 지정된 name으로 지정한 f가 수행 됨\n",
    "- df.withColumn(colName, col)<br>\n",
    " + 지정된 colName의 값들을 col에 지정된 형태로 변경함<br>\n",
    " + colName이 신규이면 새로운 col을 생성함<br>\n",
    "- Column.cast(type)<br>\n",
    " + 주어진 컬럼의 데이터 타입을 type으로 변경함"
   ]
  },
  {
   "cell_type": "code",
   "execution_count": 40,
   "metadata": {},
   "outputs": [],
   "source": [
    "array_sum = func.udf(lambda arr: sum(arr), types.IntegerType())"
   ]
  },
  {
   "cell_type": "code",
   "execution_count": 41,
   "metadata": {},
   "outputs": [
    {
     "name": "stdout",
     "output_type": "stream",
     "text": [
      "+------------------+\n",
      "|               val|\n",
      "+------------------+\n",
      "|[1, 2, 3, 4, 5, 6]|\n",
      "+------------------+\n",
      "\n",
      "root\n",
      " |-- val: array (nullable = true)\n",
      " |    |-- element: integer (containsNull = true)\n",
      "\n"
     ]
    }
   ],
   "source": [
    "df = spark.createDataFrame([['1,2,3,4,5,6']])\n",
    "df = df.select(func.split('_1', ',').alias('val'))\n",
    "df = df.withColumn(\"val\", df.val.cast(\"array<integer>\")) # cast : 데이터 타입 변경\n",
    "df.createOrReplaceTempView('test')\n",
    "df.show()\n",
    "df.printSchema()"
   ]
  },
  {
   "cell_type": "code",
   "execution_count": 42,
   "metadata": {},
   "outputs": [
    {
     "data": {
      "text/plain": [
       "<pyspark.sql.udf.UserDefinedFunction at 0x144d2fb20>"
      ]
     },
     "execution_count": 42,
     "metadata": {},
     "output_type": "execute_result"
    }
   ],
   "source": [
    "spark.udf.register('array_sum', array_sum)"
   ]
  },
  {
   "cell_type": "code",
   "execution_count": 43,
   "metadata": {},
   "outputs": [
    {
     "name": "stdout",
     "output_type": "stream",
     "text": [
      "+------------------+--------------+\n",
      "|               val|array_sum(val)|\n",
      "+------------------+--------------+\n",
      "|[1, 2, 3, 4, 5, 6]|            21|\n",
      "+------------------+--------------+\n",
      "\n"
     ]
    }
   ],
   "source": [
    "spark.sql('select *, array_sum(val) from test').show()"
   ]
  },
  {
   "cell_type": "code",
   "execution_count": 44,
   "metadata": {},
   "outputs": [
    {
     "name": "stdout",
     "output_type": "stream",
     "text": [
      "+------------------+-------+\n",
      "|               val|sum_val|\n",
      "+------------------+-------+\n",
      "|[1, 2, 3, 4, 5, 6]|     21|\n",
      "+------------------+-------+\n",
      "\n"
     ]
    }
   ],
   "source": [
    "spark.sql('select *, array_sum(val) as sum_val from test').show()"
   ]
  },
  {
   "cell_type": "markdown",
   "metadata": {},
   "source": [
    "## 그외 Spark SQL 명령어는 너무나도 많기 때문에 다음 주소를 참조\n",
    "\n",
    "https://spark.apache.org/docs/latest/sql-programming-guide.html"
   ]
  }
 ],
 "metadata": {
  "kernelspec": {
   "display_name": "th",
   "language": "python",
   "name": "python3"
  },
  "language_info": {
   "codemirror_mode": {
    "name": "ipython",
    "version": 3
   },
   "file_extension": ".py",
   "mimetype": "text/x-python",
   "name": "python",
   "nbconvert_exporter": "python",
   "pygments_lexer": "ipython3",
   "version": "3.8.18"
  },
  "latex_envs": {
   "LaTeX_envs_menu_present": true,
   "autoclose": false,
   "autocomplete": true,
   "bibliofile": "biblio.bib",
   "cite_by": "apalike",
   "current_citInitial": 1,
   "eqLabelWithNumbers": true,
   "eqNumInitial": 1,
   "hotkeys": {
    "equation": "Ctrl-E",
    "itemize": "Ctrl-I"
   },
   "labels_anchors": false,
   "latex_user_defs": false,
   "report_style_numbering": false,
   "user_envs_cfg": false
  },
  "toc": {
   "base_numbering": 1,
   "nav_menu": {},
   "number_sections": false,
   "sideBar": true,
   "skip_h1_title": false,
   "title_cell": "Table of Contents",
   "title_sidebar": "Contents",
   "toc_cell": false,
   "toc_position": {},
   "toc_section_display": true,
   "toc_window_display": false
  },
  "varInspector": {
   "cols": {
    "lenName": 16,
    "lenType": 16,
    "lenVar": 40
   },
   "kernels_config": {
    "python": {
     "delete_cmd_postfix": "",
     "delete_cmd_prefix": "del ",
     "library": "var_list.py",
     "varRefreshCmd": "print(var_dic_list())"
    },
    "r": {
     "delete_cmd_postfix": ") ",
     "delete_cmd_prefix": "rm(",
     "library": "var_list.r",
     "varRefreshCmd": "cat(var_dic_list()) "
    }
   },
   "types_to_exclude": [
    "module",
    "function",
    "builtin_function_or_method",
    "instance",
    "_Feature"
   ],
   "window_display": false
  }
 },
 "nbformat": 4,
 "nbformat_minor": 2
}
